{
 "cells": [
  {
   "cell_type": "markdown",
   "id": "3b623fa9",
   "metadata": {
    "_cell_guid": "b1076dfc-b9ad-4769-8c92-a6c4dae69d19",
    "_uuid": "8f2839f25d086af736a60e9eeb907d3b93b6e0e5",
    "papermill": {
     "duration": 0.011524,
     "end_time": "2024-04-18T12:32:05.577230",
     "exception": false,
     "start_time": "2024-04-18T12:32:05.565706",
     "status": "completed"
    },
    "tags": []
   },
   "source": [
    "## Preparing notebook"
   ]
  },
  {
   "cell_type": "code",
   "execution_count": 1,
   "id": "9f623573",
   "metadata": {
    "execution": {
     "iopub.execute_input": "2024-04-18T12:32:05.601112Z",
     "iopub.status.busy": "2024-04-18T12:32:05.600586Z",
     "iopub.status.idle": "2024-04-18T12:34:29.104140Z",
     "shell.execute_reply": "2024-04-18T12:34:29.102823Z"
    },
    "papermill": {
     "duration": 143.519007,
     "end_time": "2024-04-18T12:34:29.107103",
     "exception": false,
     "start_time": "2024-04-18T12:32:05.588096",
     "status": "completed"
    },
    "tags": []
   },
   "outputs": [
    {
     "name": "stdout",
     "output_type": "stream",
     "text": [
      "Collecting hazm\r\n",
      "  Downloading hazm-0.10.0-py3-none-any.whl.metadata (11 kB)\r\n",
      "Collecting fasttext-wheel<0.10.0,>=0.9.2 (from hazm)\r\n",
      "  Downloading fasttext_wheel-0.9.2-cp310-cp310-manylinux_2_17_x86_64.manylinux2014_x86_64.whl.metadata (16 kB)\r\n",
      "Requirement already satisfied: flashtext<3.0,>=2.7 in /opt/conda/lib/python3.10/site-packages (from hazm) (2.7)\r\n",
      "Requirement already satisfied: gensim<5.0.0,>=4.3.1 in /opt/conda/lib/python3.10/site-packages (from hazm) (4.3.2)\r\n",
      "Collecting nltk<4.0.0,>=3.8.1 (from hazm)\r\n",
      "  Downloading nltk-3.8.1-py3-none-any.whl.metadata (2.8 kB)\r\n",
      "Collecting numpy==1.24.3 (from hazm)\r\n",
      "  Downloading numpy-1.24.3-cp310-cp310-manylinux_2_17_x86_64.manylinux2014_x86_64.whl.metadata (5.6 kB)\r\n",
      "Collecting python-crfsuite<0.10.0,>=0.9.9 (from hazm)\r\n",
      "  Downloading python_crfsuite-0.9.10-cp310-cp310-manylinux_2_17_x86_64.manylinux2014_x86_64.whl.metadata (4.2 kB)\r\n",
      "Requirement already satisfied: scikit-learn<2.0.0,>=1.2.2 in /opt/conda/lib/python3.10/site-packages (from hazm) (1.2.2)\r\n",
      "Requirement already satisfied: pybind11>=2.2 in /opt/conda/lib/python3.10/site-packages (from fasttext-wheel<0.10.0,>=0.9.2->hazm) (2.12.0)\r\n",
      "Requirement already satisfied: setuptools>=0.7.0 in /opt/conda/lib/python3.10/site-packages (from fasttext-wheel<0.10.0,>=0.9.2->hazm) (69.0.3)\r\n",
      "Requirement already satisfied: scipy>=1.7.0 in /opt/conda/lib/python3.10/site-packages (from gensim<5.0.0,>=4.3.1->hazm) (1.11.4)\r\n",
      "Requirement already satisfied: smart-open>=1.8.1 in /opt/conda/lib/python3.10/site-packages (from gensim<5.0.0,>=4.3.1->hazm) (6.4.0)\r\n",
      "Requirement already satisfied: click in /opt/conda/lib/python3.10/site-packages (from nltk<4.0.0,>=3.8.1->hazm) (8.1.7)\r\n",
      "Requirement already satisfied: joblib in /opt/conda/lib/python3.10/site-packages (from nltk<4.0.0,>=3.8.1->hazm) (1.3.2)\r\n",
      "Requirement already satisfied: regex>=2021.8.3 in /opt/conda/lib/python3.10/site-packages (from nltk<4.0.0,>=3.8.1->hazm) (2023.12.25)\r\n",
      "Requirement already satisfied: tqdm in /opt/conda/lib/python3.10/site-packages (from nltk<4.0.0,>=3.8.1->hazm) (4.66.1)\r\n",
      "Requirement already satisfied: threadpoolctl>=2.0.0 in /opt/conda/lib/python3.10/site-packages (from scikit-learn<2.0.0,>=1.2.2->hazm) (3.2.0)\r\n",
      "Downloading hazm-0.10.0-py3-none-any.whl (892 kB)\r\n",
      "\u001b[2K   \u001b[90m━━━━━━━━━━━━━━━━━━━━━━━━━━━━━━━━━━━━━━━━\u001b[0m \u001b[32m892.6/892.6 kB\u001b[0m \u001b[31m5.0 MB/s\u001b[0m eta \u001b[36m0:00:00\u001b[0m\r\n",
      "\u001b[?25hDownloading numpy-1.24.3-cp310-cp310-manylinux_2_17_x86_64.manylinux2014_x86_64.whl (17.3 MB)\r\n",
      "\u001b[2K   \u001b[90m━━━━━━━━━━━━━━━━━━━━━━━━━━━━━━━━━━━━━━━━\u001b[0m \u001b[32m17.3/17.3 MB\u001b[0m \u001b[31m45.0 MB/s\u001b[0m eta \u001b[36m0:00:00\u001b[0m\r\n",
      "\u001b[?25hDownloading fasttext_wheel-0.9.2-cp310-cp310-manylinux_2_17_x86_64.manylinux2014_x86_64.whl (4.4 MB)\r\n",
      "\u001b[2K   \u001b[90m━━━━━━━━━━━━━━━━━━━━━━━━━━━━━━━━━━━━━━━━\u001b[0m \u001b[32m4.4/4.4 MB\u001b[0m \u001b[31m56.1 MB/s\u001b[0m eta \u001b[36m0:00:00\u001b[0m\r\n",
      "\u001b[?25hDownloading nltk-3.8.1-py3-none-any.whl (1.5 MB)\r\n",
      "\u001b[2K   \u001b[90m━━━━━━━━━━━━━━━━━━━━━━━━━━━━━━━━━━━━━━━━\u001b[0m \u001b[32m1.5/1.5 MB\u001b[0m \u001b[31m48.0 MB/s\u001b[0m eta \u001b[36m0:00:00\u001b[0m\r\n",
      "\u001b[?25hDownloading python_crfsuite-0.9.10-cp310-cp310-manylinux_2_17_x86_64.manylinux2014_x86_64.whl (1.1 MB)\r\n",
      "\u001b[2K   \u001b[90m━━━━━━━━━━━━━━━━━━━━━━━━━━━━━━━━━━━━━━━━\u001b[0m \u001b[32m1.1/1.1 MB\u001b[0m \u001b[31m36.1 MB/s\u001b[0m eta \u001b[36m0:00:00\u001b[0m\r\n",
      "\u001b[?25hInstalling collected packages: python-crfsuite, numpy, nltk, fasttext-wheel, hazm\r\n",
      "  Attempting uninstall: numpy\r\n",
      "    Found existing installation: numpy 1.26.4\r\n",
      "    Uninstalling numpy-1.26.4:\r\n",
      "      Successfully uninstalled numpy-1.26.4\r\n",
      "  Attempting uninstall: nltk\r\n",
      "    Found existing installation: nltk 3.2.4\r\n",
      "    Uninstalling nltk-3.2.4:\r\n",
      "      Successfully uninstalled nltk-3.2.4\r\n",
      "\u001b[31mERROR: pip's dependency resolver does not currently take into account all the packages that are installed. This behaviour is the source of the following dependency conflicts.\r\n",
      "keras-nlp 0.8.2 requires keras-core, which is not installed.\r\n",
      "tensorflow-decision-forests 1.8.1 requires wurlitzer, which is not installed.\r\n",
      "albumentations 1.4.0 requires numpy>=1.24.4, but you have numpy 1.24.3 which is incompatible.\r\n",
      "apache-beam 2.46.0 requires dill<0.3.2,>=0.3.1.1, but you have dill 0.3.8 which is incompatible.\r\n",
      "apache-beam 2.46.0 requires pyarrow<10.0.0,>=3.0.0, but you have pyarrow 15.0.2 which is incompatible.\r\n",
      "featuretools 1.30.0 requires numpy>=1.25.0, but you have numpy 1.24.3 which is incompatible.\r\n",
      "libpysal 4.9.2 requires packaging>=22, but you have packaging 21.3 which is incompatible.\r\n",
      "libpysal 4.9.2 requires shapely>=2.0.1, but you have shapely 1.8.5.post1 which is incompatible.\r\n",
      "momepy 0.7.0 requires shapely>=2, but you have shapely 1.8.5.post1 which is incompatible.\r\n",
      "osmnx 1.9.2 requires shapely>=2.0, but you have shapely 1.8.5.post1 which is incompatible.\r\n",
      "preprocessing 0.1.13 requires nltk==3.2.4, but you have nltk 3.8.1 which is incompatible.\r\n",
      "spopt 0.6.0 requires shapely>=2.0.1, but you have shapely 1.8.5.post1 which is incompatible.\r\n",
      "tensorflow 2.15.0 requires keras<2.16,>=2.15.0, but you have keras 3.1.1 which is incompatible.\r\n",
      "tensorstore 0.1.56 requires ml-dtypes>=0.3.1, but you have ml-dtypes 0.2.0 which is incompatible.\r\n",
      "woodwork 0.29.0 requires numpy>=1.25.0, but you have numpy 1.24.3 which is incompatible.\r\n",
      "xarray 2024.3.0 requires packaging>=22, but you have packaging 21.3 which is incompatible.\u001b[0m\u001b[31m\r\n",
      "\u001b[0mSuccessfully installed fasttext-wheel-0.9.2 hazm-0.10.0 nltk-3.8.1 numpy-1.24.3 python-crfsuite-0.9.10\r\n",
      "Collecting arabic_reshaper\r\n",
      "  Downloading arabic_reshaper-3.0.0-py3-none-any.whl.metadata (12 kB)\r\n",
      "Downloading arabic_reshaper-3.0.0-py3-none-any.whl (20 kB)\r\n",
      "Installing collected packages: arabic_reshaper\r\n",
      "Successfully installed arabic_reshaper-3.0.0\r\n",
      "Requirement already satisfied: keras in /opt/conda/lib/python3.10/site-packages (3.1.1)\r\n",
      "Collecting keras\r\n",
      "  Downloading keras-3.2.1-py3-none-any.whl.metadata (5.6 kB)\r\n",
      "Requirement already satisfied: absl-py in /opt/conda/lib/python3.10/site-packages (from keras) (1.4.0)\r\n",
      "Requirement already satisfied: numpy in /opt/conda/lib/python3.10/site-packages (from keras) (1.24.3)\r\n",
      "Requirement already satisfied: rich in /opt/conda/lib/python3.10/site-packages (from keras) (13.7.0)\r\n",
      "Requirement already satisfied: namex in /opt/conda/lib/python3.10/site-packages (from keras) (0.0.7)\r\n",
      "Requirement already satisfied: h5py in /opt/conda/lib/python3.10/site-packages (from keras) (3.10.0)\r\n",
      "Requirement already satisfied: optree in /opt/conda/lib/python3.10/site-packages (from keras) (0.11.0)\r\n",
      "Requirement already satisfied: ml-dtypes in /opt/conda/lib/python3.10/site-packages (from keras) (0.2.0)\r\n",
      "Requirement already satisfied: typing-extensions>=4.0.0 in /opt/conda/lib/python3.10/site-packages (from optree->keras) (4.9.0)\r\n",
      "Requirement already satisfied: markdown-it-py>=2.2.0 in /opt/conda/lib/python3.10/site-packages (from rich->keras) (3.0.0)\r\n",
      "Requirement already satisfied: pygments<3.0.0,>=2.13.0 in /opt/conda/lib/python3.10/site-packages (from rich->keras) (2.17.2)\r\n",
      "Requirement already satisfied: mdurl~=0.1 in /opt/conda/lib/python3.10/site-packages (from markdown-it-py>=2.2.0->rich->keras) (0.1.2)\r\n",
      "Downloading keras-3.2.1-py3-none-any.whl (1.1 MB)\r\n",
      "\u001b[2K   \u001b[90m━━━━━━━━━━━━━━━━━━━━━━━━━━━━━━━━━━━━━━━━\u001b[0m \u001b[32m1.1/1.1 MB\u001b[0m \u001b[31m5.1 MB/s\u001b[0m eta \u001b[36m0:00:00\u001b[0m\r\n",
      "\u001b[?25hInstalling collected packages: keras\r\n",
      "  Attempting uninstall: keras\r\n",
      "    Found existing installation: keras 3.1.1\r\n",
      "    Uninstalling keras-3.1.1:\r\n",
      "      Successfully uninstalled keras-3.1.1\r\n",
      "\u001b[31mERROR: pip's dependency resolver does not currently take into account all the packages that are installed. This behaviour is the source of the following dependency conflicts.\r\n",
      "tensorflow-decision-forests 1.8.1 requires wurlitzer, which is not installed.\r\n",
      "tensorflow 2.15.0 requires keras<2.16,>=2.15.0, but you have keras 3.2.1 which is incompatible.\u001b[0m\u001b[31m\r\n",
      "\u001b[0mSuccessfully installed keras-3.2.1\r\n",
      "Requirement already satisfied: tensorflow in /opt/conda/lib/python3.10/site-packages (2.15.0)\r\n",
      "Collecting tensorflow\r\n",
      "  Downloading tensorflow-2.16.1-cp310-cp310-manylinux_2_17_x86_64.manylinux2014_x86_64.whl.metadata (4.3 kB)\r\n",
      "Requirement already satisfied: absl-py>=1.0.0 in /opt/conda/lib/python3.10/site-packages (from tensorflow) (1.4.0)\r\n",
      "Requirement already satisfied: astunparse>=1.6.0 in /opt/conda/lib/python3.10/site-packages (from tensorflow) (1.6.3)\r\n",
      "Requirement already satisfied: flatbuffers>=23.5.26 in /opt/conda/lib/python3.10/site-packages (from tensorflow) (23.5.26)\r\n",
      "Requirement already satisfied: gast!=0.5.0,!=0.5.1,!=0.5.2,>=0.2.1 in /opt/conda/lib/python3.10/site-packages (from tensorflow) (0.5.4)\r\n",
      "Requirement already satisfied: google-pasta>=0.1.1 in /opt/conda/lib/python3.10/site-packages (from tensorflow) (0.2.0)\r\n",
      "Requirement already satisfied: h5py>=3.10.0 in /opt/conda/lib/python3.10/site-packages (from tensorflow) (3.10.0)\r\n",
      "Requirement already satisfied: libclang>=13.0.0 in /opt/conda/lib/python3.10/site-packages (from tensorflow) (16.0.6)\r\n",
      "Collecting ml-dtypes~=0.3.1 (from tensorflow)\r\n",
      "  Downloading ml_dtypes-0.3.2-cp310-cp310-manylinux_2_17_x86_64.manylinux2014_x86_64.whl.metadata (20 kB)\r\n",
      "Requirement already satisfied: opt-einsum>=2.3.2 in /opt/conda/lib/python3.10/site-packages (from tensorflow) (3.3.0)\r\n",
      "Requirement already satisfied: packaging in /opt/conda/lib/python3.10/site-packages (from tensorflow) (21.3)\r\n",
      "Requirement already satisfied: protobuf!=4.21.0,!=4.21.1,!=4.21.2,!=4.21.3,!=4.21.4,!=4.21.5,<5.0.0dev,>=3.20.3 in /opt/conda/lib/python3.10/site-packages (from tensorflow) (3.20.3)\r\n",
      "Requirement already satisfied: requests<3,>=2.21.0 in /opt/conda/lib/python3.10/site-packages (from tensorflow) (2.31.0)\r\n",
      "Requirement already satisfied: setuptools in /opt/conda/lib/python3.10/site-packages (from tensorflow) (69.0.3)\r\n",
      "Requirement already satisfied: six>=1.12.0 in /opt/conda/lib/python3.10/site-packages (from tensorflow) (1.16.0)\r\n",
      "Requirement already satisfied: termcolor>=1.1.0 in /opt/conda/lib/python3.10/site-packages (from tensorflow) (2.4.0)\r\n",
      "Requirement already satisfied: typing-extensions>=3.6.6 in /opt/conda/lib/python3.10/site-packages (from tensorflow) (4.9.0)\r\n",
      "Requirement already satisfied: wrapt>=1.11.0 in /opt/conda/lib/python3.10/site-packages (from tensorflow) (1.14.1)\r\n",
      "Requirement already satisfied: grpcio<2.0,>=1.24.3 in /opt/conda/lib/python3.10/site-packages (from tensorflow) (1.60.0)\r\n",
      "Collecting tensorboard<2.17,>=2.16 (from tensorflow)\r\n",
      "  Downloading tensorboard-2.16.2-py3-none-any.whl.metadata (1.6 kB)\r\n",
      "Requirement already satisfied: keras>=3.0.0 in /opt/conda/lib/python3.10/site-packages (from tensorflow) (3.2.1)\r\n",
      "Requirement already satisfied: tensorflow-io-gcs-filesystem>=0.23.1 in /opt/conda/lib/python3.10/site-packages (from tensorflow) (0.35.0)\r\n",
      "Requirement already satisfied: numpy<2.0.0,>=1.23.5 in /opt/conda/lib/python3.10/site-packages (from tensorflow) (1.24.3)\r\n",
      "Requirement already satisfied: wheel<1.0,>=0.23.0 in /opt/conda/lib/python3.10/site-packages (from astunparse>=1.6.0->tensorflow) (0.42.0)\r\n",
      "Requirement already satisfied: rich in /opt/conda/lib/python3.10/site-packages (from keras>=3.0.0->tensorflow) (13.7.0)\r\n",
      "Requirement already satisfied: namex in /opt/conda/lib/python3.10/site-packages (from keras>=3.0.0->tensorflow) (0.0.7)\r\n",
      "Requirement already satisfied: optree in /opt/conda/lib/python3.10/site-packages (from keras>=3.0.0->tensorflow) (0.11.0)\r\n",
      "Requirement already satisfied: charset-normalizer<4,>=2 in /opt/conda/lib/python3.10/site-packages (from requests<3,>=2.21.0->tensorflow) (3.3.2)\r\n",
      "Requirement already satisfied: idna<4,>=2.5 in /opt/conda/lib/python3.10/site-packages (from requests<3,>=2.21.0->tensorflow) (3.6)\r\n",
      "Requirement already satisfied: urllib3<3,>=1.21.1 in /opt/conda/lib/python3.10/site-packages (from requests<3,>=2.21.0->tensorflow) (1.26.18)\r\n",
      "Requirement already satisfied: certifi>=2017.4.17 in /opt/conda/lib/python3.10/site-packages (from requests<3,>=2.21.0->tensorflow) (2024.2.2)\r\n",
      "Requirement already satisfied: markdown>=2.6.8 in /opt/conda/lib/python3.10/site-packages (from tensorboard<2.17,>=2.16->tensorflow) (3.5.2)\r\n",
      "Requirement already satisfied: tensorboard-data-server<0.8.0,>=0.7.0 in /opt/conda/lib/python3.10/site-packages (from tensorboard<2.17,>=2.16->tensorflow) (0.7.2)\r\n",
      "Requirement already satisfied: werkzeug>=1.0.1 in /opt/conda/lib/python3.10/site-packages (from tensorboard<2.17,>=2.16->tensorflow) (3.0.2)\r\n",
      "Requirement already satisfied: pyparsing!=3.0.5,>=2.0.2 in /opt/conda/lib/python3.10/site-packages (from packaging->tensorflow) (3.1.1)\r\n",
      "Requirement already satisfied: MarkupSafe>=2.1.1 in /opt/conda/lib/python3.10/site-packages (from werkzeug>=1.0.1->tensorboard<2.17,>=2.16->tensorflow) (2.1.3)\r\n",
      "Requirement already satisfied: markdown-it-py>=2.2.0 in /opt/conda/lib/python3.10/site-packages (from rich->keras>=3.0.0->tensorflow) (3.0.0)\r\n",
      "Requirement already satisfied: pygments<3.0.0,>=2.13.0 in /opt/conda/lib/python3.10/site-packages (from rich->keras>=3.0.0->tensorflow) (2.17.2)\r\n",
      "Requirement already satisfied: mdurl~=0.1 in /opt/conda/lib/python3.10/site-packages (from markdown-it-py>=2.2.0->rich->keras>=3.0.0->tensorflow) (0.1.2)\r\n",
      "Downloading tensorflow-2.16.1-cp310-cp310-manylinux_2_17_x86_64.manylinux2014_x86_64.whl (589.8 MB)\r\n",
      "\u001b[2K   \u001b[90m━━━━━━━━━━━━━━━━━━━━━━━━━━━━━━━━━━━━━━━━\u001b[0m \u001b[32m589.8/589.8 MB\u001b[0m \u001b[31m2.1 MB/s\u001b[0m eta \u001b[36m0:00:00\u001b[0m\r\n",
      "\u001b[?25hDownloading ml_dtypes-0.3.2-cp310-cp310-manylinux_2_17_x86_64.manylinux2014_x86_64.whl (2.2 MB)\r\n",
      "\u001b[2K   \u001b[90m━━━━━━━━━━━━━━━━━━━━━━━━━━━━━━━━━━━━━━━━\u001b[0m \u001b[32m2.2/2.2 MB\u001b[0m \u001b[31m3.8 MB/s\u001b[0m eta \u001b[36m0:00:00\u001b[0m\r\n",
      "\u001b[?25hDownloading tensorboard-2.16.2-py3-none-any.whl (5.5 MB)\r\n",
      "\u001b[2K   \u001b[90m━━━━━━━━━━━━━━━━━━━━━━━━━━━━━━━━━━━━━━━━\u001b[0m \u001b[32m5.5/5.5 MB\u001b[0m \u001b[31m10.0 MB/s\u001b[0m eta \u001b[36m0:00:00\u001b[0m\r\n",
      "\u001b[?25hInstalling collected packages: ml-dtypes, tensorboard, tensorflow\r\n",
      "  Attempting uninstall: ml-dtypes\r\n",
      "    Found existing installation: ml-dtypes 0.2.0\r\n",
      "    Uninstalling ml-dtypes-0.2.0:\r\n",
      "      Successfully uninstalled ml-dtypes-0.2.0\r\n",
      "  Attempting uninstall: tensorboard\r\n",
      "    Found existing installation: tensorboard 2.15.1\r\n",
      "    Uninstalling tensorboard-2.15.1:\r\n",
      "      Successfully uninstalled tensorboard-2.15.1\r\n",
      "  Attempting uninstall: tensorflow\r\n",
      "    Found existing installation: tensorflow 2.15.0\r\n",
      "    Uninstalling tensorflow-2.15.0:\r\n",
      "      Successfully uninstalled tensorflow-2.15.0\r\n",
      "\u001b[31mERROR: pip's dependency resolver does not currently take into account all the packages that are installed. This behaviour is the source of the following dependency conflicts.\r\n",
      "tensorflow-decision-forests 1.8.1 requires wurlitzer, which is not installed.\r\n",
      "tensorflow-decision-forests 1.8.1 requires tensorflow~=2.15.0, but you have tensorflow 2.16.1 which is incompatible.\r\n",
      "tensorflow-text 2.15.0 requires tensorflow<2.16,>=2.15.0; platform_machine != \"arm64\" or platform_system != \"Darwin\", but you have tensorflow 2.16.1 which is incompatible.\r\n",
      "tf-keras 2.15.1 requires tensorflow<2.16,>=2.15, but you have tensorflow 2.16.1 which is incompatible.\u001b[0m\u001b[31m\r\n",
      "\u001b[0mSuccessfully installed ml-dtypes-0.3.2 tensorboard-2.16.2 tensorflow-2.16.1\r\n"
     ]
    }
   ],
   "source": [
    "! pip install hazm\n",
    "! pip install arabic_reshaper\n",
    "! pip install keras --upgrade\n",
    "! pip install tensorflow --upgrade"
   ]
  },
  {
   "cell_type": "markdown",
   "id": "9abc5519",
   "metadata": {
    "papermill": {
     "duration": 0.043602,
     "end_time": "2024-04-18T12:34:29.194368",
     "exception": false,
     "start_time": "2024-04-18T12:34:29.150766",
     "status": "completed"
    },
    "tags": []
   },
   "source": [
    "## Import requirement libraries"
   ]
  },
  {
   "cell_type": "code",
   "execution_count": 2,
   "id": "6d309120",
   "metadata": {
    "execution": {
     "iopub.execute_input": "2024-04-18T12:34:29.286094Z",
     "iopub.status.busy": "2024-04-18T12:34:29.285134Z",
     "iopub.status.idle": "2024-04-18T12:34:43.996910Z",
     "shell.execute_reply": "2024-04-18T12:34:43.995770Z"
    },
    "papermill": {
     "duration": 14.760265,
     "end_time": "2024-04-18T12:34:44.000162",
     "exception": false,
     "start_time": "2024-04-18T12:34:29.239897",
     "status": "completed"
    },
    "tags": []
   },
   "outputs": [],
   "source": [
    "# Preprocessing\n",
    "import numpy as np\n",
    "import pandas as pd\n",
    "from string import punctuation\n",
    "from sklearn.feature_extraction.text import TfidfVectorizer\n",
    "from sklearn.preprocessing import MultiLabelBinarizer, LabelEncoder\n",
    "from hazm import Normalizer, Lemmatizer, Stemmer, stopwords_list, word_tokenize\n",
    "from sklearn.model_selection import train_test_split\n",
    "from sklearn.metrics import classification_report, confusion_matrix\n",
    "from progressbar import ProgressBar\n",
    "# ML\n",
    "from sklearn.svm import SVC\n",
    "from sklearn.ensemble import RandomForestClassifier\n",
    "from sklearn.tree import DecisionTreeClassifier\n",
    "from sklearn.ensemble import VotingClassifier\n",
    "# Visualization\n",
    "from bidi.algorithm import get_display\n",
    "import arabic_reshaper\n",
    "from arabic_reshaper import reshape\n",
    "import matplotlib.pyplot as plt"
   ]
  },
  {
   "cell_type": "markdown",
   "id": "7fa64a4c",
   "metadata": {
    "papermill": {
     "duration": 0.045158,
     "end_time": "2024-04-18T12:34:44.088876",
     "exception": false,
     "start_time": "2024-04-18T12:34:44.043718",
     "status": "completed"
    },
    "tags": []
   },
   "source": [
    "## Load data"
   ]
  },
  {
   "cell_type": "code",
   "execution_count": 3,
   "id": "bb8f37ac",
   "metadata": {
    "execution": {
     "iopub.execute_input": "2024-04-18T12:34:44.178549Z",
     "iopub.status.busy": "2024-04-18T12:34:44.177499Z",
     "iopub.status.idle": "2024-04-18T12:34:45.544964Z",
     "shell.execute_reply": "2024-04-18T12:34:45.543782Z"
    },
    "papermill": {
     "duration": 1.417622,
     "end_time": "2024-04-18T12:34:45.549429",
     "exception": false,
     "start_time": "2024-04-18T12:34:44.131807",
     "status": "completed"
    },
    "tags": []
   },
   "outputs": [
    {
     "data": {
      "text/html": [
       "<div>\n",
       "<style scoped>\n",
       "    .dataframe tbody tr th:only-of-type {\n",
       "        vertical-align: middle;\n",
       "    }\n",
       "\n",
       "    .dataframe tbody tr th {\n",
       "        vertical-align: top;\n",
       "    }\n",
       "\n",
       "    .dataframe thead th {\n",
       "        text-align: right;\n",
       "    }\n",
       "</style>\n",
       "<table border=\"1\" class=\"dataframe\">\n",
       "  <thead>\n",
       "    <tr style=\"text-align: right;\">\n",
       "      <th></th>\n",
       "      <th>Title</th>\n",
       "      <th>Body</th>\n",
       "      <th>Category2</th>\n",
       "    </tr>\n",
       "  </thead>\n",
       "  <tbody>\n",
       "    <tr>\n",
       "      <th>0</th>\n",
       "      <td>\\nوزير علوم درجمع استادان نمونه: سن بازنشستگي ...</td>\n",
       "      <td>\\nوزير علوم در جمع استادان نمونه كشور گفت: از ...</td>\n",
       "      <td>\\nآموزشي</td>\n",
       "    </tr>\n",
       "    <tr>\n",
       "      <th>1</th>\n",
       "      <td>\\nگردهمايي دانش‌آموختگان موسسه آموزش عالي سوره...</td>\n",
       "      <td>\\nبه گزارش سرويس صنفي آموزشي خبرگزاري دانشجويا...</td>\n",
       "      <td>\\nآموزشي</td>\n",
       "    </tr>\n",
       "    <tr>\n",
       "      <th>2</th>\n",
       "      <td>\\nنتايج آزمون دوره‌هاي فراگير دانشگاه پيام‌نور...</td>\n",
       "      <td>\\nنتايج آزمون دوره‌هاي فراگير مقاطع كارشناسي و...</td>\n",
       "      <td>\\nآموزشي</td>\n",
       "    </tr>\n",
       "    <tr>\n",
       "      <th>3</th>\n",
       "      <td>\\nهمايش يكروزه آسيب شناسي مفهوم روابط عمومي در...</td>\n",
       "      <td>\\n</td>\n",
       "      <td>\\nاجتماعي</td>\n",
       "    </tr>\n",
       "    <tr>\n",
       "      <th>4</th>\n",
       "      <td>\\nوضعيت اقتصادي و ميزان تحصيلات والدين از مهمت...</td>\n",
       "      <td>\\nمحمدتقي علوي يزدي، مجري اين طرح پژوهشي در اي...</td>\n",
       "      <td>\\nآموزشي</td>\n",
       "    </tr>\n",
       "  </tbody>\n",
       "</table>\n",
       "</div>"
      ],
      "text/plain": [
       "                                               Title  \\\n",
       "0  \\nوزير علوم درجمع استادان نمونه: سن بازنشستگي ...   \n",
       "1  \\nگردهمايي دانش‌آموختگان موسسه آموزش عالي سوره...   \n",
       "2  \\nنتايج آزمون دوره‌هاي فراگير دانشگاه پيام‌نور...   \n",
       "3  \\nهمايش يكروزه آسيب شناسي مفهوم روابط عمومي در...   \n",
       "4  \\nوضعيت اقتصادي و ميزان تحصيلات والدين از مهمت...   \n",
       "\n",
       "                                                Body  Category2  \n",
       "0  \\nوزير علوم در جمع استادان نمونه كشور گفت: از ...   \\nآموزشي  \n",
       "1  \\nبه گزارش سرويس صنفي آموزشي خبرگزاري دانشجويا...   \\nآموزشي  \n",
       "2  \\nنتايج آزمون دوره‌هاي فراگير مقاطع كارشناسي و...   \\nآموزشي  \n",
       "3                                                 \\n  \\nاجتماعي  \n",
       "4  \\nمحمدتقي علوي يزدي، مجري اين طرح پژوهشي در اي...   \\nآموزشي  "
      ]
     },
     "execution_count": 3,
     "metadata": {},
     "output_type": "execute_result"
    }
   ],
   "source": [
    "datas = pd.read_csv('/kaggle/input/persion-news-dataset/per.csv')\n",
    "datas.drop(['NewsID', 'Date', 'Time', 'Category'], axis=1, inplace=True)\n",
    "datas.head()"
   ]
  },
  {
   "cell_type": "markdown",
   "id": "dd4ebb30",
   "metadata": {
    "papermill": {
     "duration": 0.064875,
     "end_time": "2024-04-18T12:34:45.691043",
     "exception": false,
     "start_time": "2024-04-18T12:34:45.626168",
     "status": "completed"
    },
    "tags": []
   },
   "source": [
    "## Preprocessing"
   ]
  },
  {
   "cell_type": "code",
   "execution_count": 4,
   "id": "8857c448",
   "metadata": {
    "execution": {
     "iopub.execute_input": "2024-04-18T12:34:45.807163Z",
     "iopub.status.busy": "2024-04-18T12:34:45.806760Z",
     "iopub.status.idle": "2024-04-18T12:34:50.000872Z",
     "shell.execute_reply": "2024-04-18T12:34:49.999674Z"
    },
    "papermill": {
     "duration": 4.263587,
     "end_time": "2024-04-18T12:34:50.003803",
     "exception": false,
     "start_time": "2024-04-18T12:34:45.740216",
     "status": "completed"
    },
    "tags": []
   },
   "outputs": [],
   "source": [
    "normalizer = Normalizer()\n",
    "stop_words_lsit = stopwords_list()\n",
    "punctuation_lsit = list(punctuation)\n",
    "punctuation_lsit.extend(['»', '«', '؛' ,'،' ,'؟'])\n",
    "stemmer = Stemmer()\n",
    "lemmetizer = Lemmatizer()"
   ]
  },
  {
   "cell_type": "code",
   "execution_count": 5,
   "id": "f6db49cf",
   "metadata": {
    "execution": {
     "iopub.execute_input": "2024-04-18T12:34:50.095749Z",
     "iopub.status.busy": "2024-04-18T12:34:50.095316Z",
     "iopub.status.idle": "2024-04-18T12:37:18.056556Z",
     "shell.execute_reply": "2024-04-18T12:37:18.055299Z"
    },
    "papermill": {
     "duration": 148.011099,
     "end_time": "2024-04-18T12:37:18.060914",
     "exception": false,
     "start_time": "2024-04-18T12:34:50.049815",
     "status": "completed"
    },
    "tags": []
   },
   "outputs": [
    {
     "name": "stderr",
     "output_type": "stream",
     "text": [
      "\u001b[38;2;0;255;0m100%\u001b[39m \u001b[38;2;0;255;0m(10999 of 10999)\u001b[39m |##################| Elapsed Time: 0:02:27 Time:  0:02:27\n"
     ]
    }
   ],
   "source": [
    "p = ProgressBar(max_value=len(datas)).start()\n",
    "dataset = pd.DataFrame(columns=['Text', 'Label'])\n",
    "for i, row in datas.iterrows():\n",
    "    text = row['Title'] + ' ' + row['Body']\n",
    "    text_normal = normalizer.normalize(text)\n",
    "    text_normal_tokenized = word_tokenize(text_normal)\n",
    "    text_normal_tokenized_filtered = [w for w in text_normal_tokenized if w not in stop_words_lsit and w not in punctuation_lsit]\n",
    "    text_normal_tokenized_filtered_stem = [stemmer.stem(w) for w in text_normal_tokenized_filtered]\n",
    "    text_normal_tokenized_filtered_lem = [lemmetizer.lemmatize(w).replace('#', ' ') for w in text_normal_tokenized_filtered]\n",
    "    dataset.loc[i]={\n",
    "        'Text':' '.join(text_normal_tokenized_filtered_stem) + ' ' + ' '.join(text_normal_tokenized_filtered_lem),\n",
    "        'Label':row['Category2'].replace('\\n', '').strip(),\n",
    "    }\n",
    "    p.update(i + 1)\n",
    "p.finish()"
   ]
  },
  {
   "cell_type": "code",
   "execution_count": 6,
   "id": "952cce57",
   "metadata": {
    "execution": {
     "iopub.execute_input": "2024-04-18T12:37:18.396783Z",
     "iopub.status.busy": "2024-04-18T12:37:18.396036Z",
     "iopub.status.idle": "2024-04-18T12:37:18.405758Z",
     "shell.execute_reply": "2024-04-18T12:37:18.404934Z"
    },
    "papermill": {
     "duration": 0.178831,
     "end_time": "2024-04-18T12:37:18.408115",
     "exception": false,
     "start_time": "2024-04-18T12:37:18.229284",
     "status": "completed"
    },
    "tags": []
   },
   "outputs": [],
   "source": [
    "X_train, X_test, y_train, y_test = train_test_split(dataset['Text'], dataset['Label'], test_size=0.33, random_state=42)"
   ]
  },
  {
   "cell_type": "code",
   "execution_count": 7,
   "id": "211f4f08",
   "metadata": {
    "execution": {
     "iopub.execute_input": "2024-04-18T12:37:18.741562Z",
     "iopub.status.busy": "2024-04-18T12:37:18.740832Z",
     "iopub.status.idle": "2024-04-18T12:37:44.574328Z",
     "shell.execute_reply": "2024-04-18T12:37:44.572874Z"
    },
    "papermill": {
     "duration": 26.005941,
     "end_time": "2024-04-18T12:37:44.578885",
     "exception": false,
     "start_time": "2024-04-18T12:37:18.572944",
     "status": "completed"
    },
    "tags": []
   },
   "outputs": [],
   "source": [
    "tfidfvectorizer = TfidfVectorizer(ngram_range=(1, 2))\n",
    "X_train = tfidfvectorizer.fit_transform(X_train)\n",
    "X_test = tfidfvectorizer.transform(X_test)"
   ]
  },
  {
   "cell_type": "code",
   "execution_count": 8,
   "id": "442a9981",
   "metadata": {
    "execution": {
     "iopub.execute_input": "2024-04-18T12:37:44.916591Z",
     "iopub.status.busy": "2024-04-18T12:37:44.915369Z",
     "iopub.status.idle": "2024-04-18T12:37:44.928016Z",
     "shell.execute_reply": "2024-04-18T12:37:44.927154Z"
    },
    "papermill": {
     "duration": 0.183843,
     "end_time": "2024-04-18T12:37:44.930358",
     "exception": false,
     "start_time": "2024-04-18T12:37:44.746515",
     "status": "completed"
    },
    "tags": []
   },
   "outputs": [],
   "source": [
    "labelencoder = LabelEncoder()\n",
    "y_train = labelencoder.fit_transform(y_train)\n",
    "y_test = labelencoder.transform(y_test)"
   ]
  },
  {
   "cell_type": "code",
   "execution_count": 9,
   "id": "5ba04672",
   "metadata": {
    "execution": {
     "iopub.execute_input": "2024-04-18T12:37:45.262428Z",
     "iopub.status.busy": "2024-04-18T12:37:45.261360Z",
     "iopub.status.idle": "2024-04-18T12:37:45.313549Z",
     "shell.execute_reply": "2024-04-18T12:37:45.312611Z"
    },
    "papermill": {
     "duration": 0.221456,
     "end_time": "2024-04-18T12:37:45.316302",
     "exception": false,
     "start_time": "2024-04-18T12:37:45.094846",
     "status": "completed"
    },
    "tags": []
   },
   "outputs": [],
   "source": [
    "labels = [get_display(reshape(x)) for x in list(labelencoder.classes_)]"
   ]
  },
  {
   "cell_type": "markdown",
   "id": "b11dc8ac",
   "metadata": {
    "papermill": {
     "duration": 0.16425,
     "end_time": "2024-04-18T12:37:45.644995",
     "exception": false,
     "start_time": "2024-04-18T12:37:45.480745",
     "status": "completed"
    },
    "tags": []
   },
   "source": [
    "## ML"
   ]
  },
  {
   "cell_type": "markdown",
   "id": "1e416eb3",
   "metadata": {
    "papermill": {
     "duration": 0.167313,
     "end_time": "2024-04-18T12:37:45.978926",
     "exception": false,
     "start_time": "2024-04-18T12:37:45.811613",
     "status": "completed"
    },
    "tags": []
   },
   "source": [
    "### Decision tree (defualt parameters)"
   ]
  },
  {
   "cell_type": "code",
   "execution_count": 10,
   "id": "48794070",
   "metadata": {
    "execution": {
     "iopub.execute_input": "2024-04-18T12:37:46.310896Z",
     "iopub.status.busy": "2024-04-18T12:37:46.310504Z",
     "iopub.status.idle": "2024-04-18T12:39:44.583594Z",
     "shell.execute_reply": "2024-04-18T12:39:44.581875Z"
    },
    "papermill": {
     "duration": 118.655339,
     "end_time": "2024-04-18T12:39:44.798683",
     "exception": false,
     "start_time": "2024-04-18T12:37:46.143344",
     "status": "completed"
    },
    "tags": []
   },
   "outputs": [
    {
     "data": {
      "text/html": [
       "<style>#sk-container-id-1 {color: black;background-color: white;}#sk-container-id-1 pre{padding: 0;}#sk-container-id-1 div.sk-toggleable {background-color: white;}#sk-container-id-1 label.sk-toggleable__label {cursor: pointer;display: block;width: 100%;margin-bottom: 0;padding: 0.3em;box-sizing: border-box;text-align: center;}#sk-container-id-1 label.sk-toggleable__label-arrow:before {content: \"▸\";float: left;margin-right: 0.25em;color: #696969;}#sk-container-id-1 label.sk-toggleable__label-arrow:hover:before {color: black;}#sk-container-id-1 div.sk-estimator:hover label.sk-toggleable__label-arrow:before {color: black;}#sk-container-id-1 div.sk-toggleable__content {max-height: 0;max-width: 0;overflow: hidden;text-align: left;background-color: #f0f8ff;}#sk-container-id-1 div.sk-toggleable__content pre {margin: 0.2em;color: black;border-radius: 0.25em;background-color: #f0f8ff;}#sk-container-id-1 input.sk-toggleable__control:checked~div.sk-toggleable__content {max-height: 200px;max-width: 100%;overflow: auto;}#sk-container-id-1 input.sk-toggleable__control:checked~label.sk-toggleable__label-arrow:before {content: \"▾\";}#sk-container-id-1 div.sk-estimator input.sk-toggleable__control:checked~label.sk-toggleable__label {background-color: #d4ebff;}#sk-container-id-1 div.sk-label input.sk-toggleable__control:checked~label.sk-toggleable__label {background-color: #d4ebff;}#sk-container-id-1 input.sk-hidden--visually {border: 0;clip: rect(1px 1px 1px 1px);clip: rect(1px, 1px, 1px, 1px);height: 1px;margin: -1px;overflow: hidden;padding: 0;position: absolute;width: 1px;}#sk-container-id-1 div.sk-estimator {font-family: monospace;background-color: #f0f8ff;border: 1px dotted black;border-radius: 0.25em;box-sizing: border-box;margin-bottom: 0.5em;}#sk-container-id-1 div.sk-estimator:hover {background-color: #d4ebff;}#sk-container-id-1 div.sk-parallel-item::after {content: \"\";width: 100%;border-bottom: 1px solid gray;flex-grow: 1;}#sk-container-id-1 div.sk-label:hover label.sk-toggleable__label {background-color: #d4ebff;}#sk-container-id-1 div.sk-serial::before {content: \"\";position: absolute;border-left: 1px solid gray;box-sizing: border-box;top: 0;bottom: 0;left: 50%;z-index: 0;}#sk-container-id-1 div.sk-serial {display: flex;flex-direction: column;align-items: center;background-color: white;padding-right: 0.2em;padding-left: 0.2em;position: relative;}#sk-container-id-1 div.sk-item {position: relative;z-index: 1;}#sk-container-id-1 div.sk-parallel {display: flex;align-items: stretch;justify-content: center;background-color: white;position: relative;}#sk-container-id-1 div.sk-item::before, #sk-container-id-1 div.sk-parallel-item::before {content: \"\";position: absolute;border-left: 1px solid gray;box-sizing: border-box;top: 0;bottom: 0;left: 50%;z-index: -1;}#sk-container-id-1 div.sk-parallel-item {display: flex;flex-direction: column;z-index: 1;position: relative;background-color: white;}#sk-container-id-1 div.sk-parallel-item:first-child::after {align-self: flex-end;width: 50%;}#sk-container-id-1 div.sk-parallel-item:last-child::after {align-self: flex-start;width: 50%;}#sk-container-id-1 div.sk-parallel-item:only-child::after {width: 0;}#sk-container-id-1 div.sk-dashed-wrapped {border: 1px dashed gray;margin: 0 0.4em 0.5em 0.4em;box-sizing: border-box;padding-bottom: 0.4em;background-color: white;}#sk-container-id-1 div.sk-label label {font-family: monospace;font-weight: bold;display: inline-block;line-height: 1.2em;}#sk-container-id-1 div.sk-label-container {text-align: center;}#sk-container-id-1 div.sk-container {/* jupyter's `normalize.less` sets `[hidden] { display: none; }` but bootstrap.min.css set `[hidden] { display: none !important; }` so we also need the `!important` here to be able to override the default hidden behavior on the sphinx rendered scikit-learn.org. See: https://github.com/scikit-learn/scikit-learn/issues/21755 */display: inline-block !important;position: relative;}#sk-container-id-1 div.sk-text-repr-fallback {display: none;}</style><div id=\"sk-container-id-1\" class=\"sk-top-container\"><div class=\"sk-text-repr-fallback\"><pre>DecisionTreeClassifier()</pre><b>In a Jupyter environment, please rerun this cell to show the HTML representation or trust the notebook. <br />On GitHub, the HTML representation is unable to render, please try loading this page with nbviewer.org.</b></div><div class=\"sk-container\" hidden><div class=\"sk-item\"><div class=\"sk-estimator sk-toggleable\"><input class=\"sk-toggleable__control sk-hidden--visually\" id=\"sk-estimator-id-1\" type=\"checkbox\" checked><label for=\"sk-estimator-id-1\" class=\"sk-toggleable__label sk-toggleable__label-arrow\">DecisionTreeClassifier</label><div class=\"sk-toggleable__content\"><pre>DecisionTreeClassifier()</pre></div></div></div></div></div>"
      ],
      "text/plain": [
       "DecisionTreeClassifier()"
      ]
     },
     "execution_count": 10,
     "metadata": {},
     "output_type": "execute_result"
    }
   ],
   "source": [
    "DT_cl = DecisionTreeClassifier()\n",
    "DT_cl.fit(X_train, y_train)"
   ]
  },
  {
   "cell_type": "code",
   "execution_count": 11,
   "id": "4fd60db1",
   "metadata": {
    "execution": {
     "iopub.execute_input": "2024-04-18T12:39:45.165913Z",
     "iopub.status.busy": "2024-04-18T12:39:45.164973Z",
     "iopub.status.idle": "2024-04-18T12:39:45.551294Z",
     "shell.execute_reply": "2024-04-18T12:39:45.549879Z"
    },
    "papermill": {
     "duration": 0.559408,
     "end_time": "2024-04-18T12:39:45.554055",
     "exception": false,
     "start_time": "2024-04-18T12:39:44.994647",
     "status": "completed"
    },
    "tags": []
   },
   "outputs": [
    {
     "name": "stdout",
     "output_type": "stream",
     "text": [
      "Decision tree result on train data\n",
      "               precision    recall  f1-score   support\n",
      "\n",
      "           0       1.00      1.00      1.00       671\n",
      "           1       1.00      1.00      1.00       661\n",
      "           2       1.00      1.00      1.00       675\n",
      "           3       1.00      1.00      1.00       661\n",
      "           4       1.00      1.00      1.00       656\n",
      "           5       1.00      1.00      1.00       681\n",
      "           6       1.00      1.00      1.00       672\n",
      "           7       1.00      1.00      1.00       684\n",
      "           8       1.00      1.00      1.00       656\n",
      "           9       1.00      1.00      1.00       672\n",
      "          10       1.00      1.00      1.00       680\n",
      "\n",
      "    accuracy                           1.00      7369\n",
      "   macro avg       1.00      1.00      1.00      7369\n",
      "weighted avg       1.00      1.00      1.00      7369\n",
      "\n"
     ]
    }
   ],
   "source": [
    "y_train_pred = DT_cl.predict(X_train)\n",
    "print('Decision tree result on train data\\n', classification_report(y_pred=y_train_pred, y_true=y_train))"
   ]
  },
  {
   "cell_type": "code",
   "execution_count": 12,
   "id": "6095cff2",
   "metadata": {
    "execution": {
     "iopub.execute_input": "2024-04-18T12:39:45.905429Z",
     "iopub.status.busy": "2024-04-18T12:39:45.904606Z",
     "iopub.status.idle": "2024-04-18T12:39:46.006748Z",
     "shell.execute_reply": "2024-04-18T12:39:46.004716Z"
    },
    "papermill": {
     "duration": 0.279992,
     "end_time": "2024-04-18T12:39:46.012181",
     "exception": false,
     "start_time": "2024-04-18T12:39:45.732189",
     "status": "completed"
    },
    "tags": []
   },
   "outputs": [
    {
     "name": "stdout",
     "output_type": "stream",
     "text": [
      "Decision tree result on test data\n",
      "               precision    recall  f1-score   support\n",
      "\n",
      "           0       0.83      0.84      0.83       329\n",
      "           1       0.43      0.38      0.41       339\n",
      "           2       0.57      0.59      0.58       325\n",
      "           3       0.82      0.87      0.84       339\n",
      "           4       0.73      0.78      0.75       343\n",
      "           5       0.51      0.55      0.53       319\n",
      "           6       0.65      0.69      0.67       328\n",
      "           7       0.66      0.60      0.63       316\n",
      "           8       0.75      0.68      0.71       344\n",
      "           9       0.81      0.75      0.78       328\n",
      "          10       0.85      0.90      0.87       320\n",
      "\n",
      "    accuracy                           0.69      3630\n",
      "   macro avg       0.69      0.69      0.69      3630\n",
      "weighted avg       0.69      0.69      0.69      3630\n",
      "\n"
     ]
    }
   ],
   "source": [
    "y_test_pred = DT_cl.predict(X_test)\n",
    "print('Decision tree result on test data\\n', classification_report(y_pred=y_test_pred, y_true=y_test))"
   ]
  },
  {
   "cell_type": "code",
   "execution_count": 13,
   "id": "13aace96",
   "metadata": {
    "execution": {
     "iopub.execute_input": "2024-04-18T12:39:46.785893Z",
     "iopub.status.busy": "2024-04-18T12:39:46.783668Z",
     "iopub.status.idle": "2024-04-18T12:39:47.632551Z",
     "shell.execute_reply": "2024-04-18T12:39:47.628819Z"
    },
    "papermill": {
     "duration": 1.152145,
     "end_time": "2024-04-18T12:39:47.638391",
     "exception": false,
     "start_time": "2024-04-18T12:39:46.486246",
     "status": "completed"
    },
    "tags": []
   },
   "outputs": [
    {
     "data": {
      "image/png": "[encoded data removed]",
      "text/plain": [
       "<Figure size 1000x1000 with 1 Axes>"
      ]
     },
     "metadata": {},
     "output_type": "display_data"
    }
   ],
   "source": [
    "plt.figure(figsize=(10, 10))\n",
    "plt.imshow(confusion_matrix(y_pred=y_test_pred, y_true=y_test))\n",
    "plt.xticks([0, 1, 2, 3, 4, 5, 6, 7, 8, 9, 10], rotation=90, labels=labels)\n",
    "plt.yticks([0, 1, 2, 3, 4, 5, 6, 7, 8, 9, 10], labels=labels)\n",
    "plt.title('Confusion Matrix of Decision Tree')\n",
    "plt.show();"
   ]
  },
  {
   "cell_type": "markdown",
   "id": "660d54bf",
   "metadata": {
    "papermill": {
     "duration": 0.28677,
     "end_time": "2024-04-18T12:39:48.198737",
     "exception": false,
     "start_time": "2024-04-18T12:39:47.911967",
     "status": "completed"
    },
    "tags": []
   },
   "source": [
    "### SVM (defualt parameters)"
   ]
  },
  {
   "cell_type": "code",
   "execution_count": 14,
   "id": "6686cd18",
   "metadata": {
    "execution": {
     "iopub.execute_input": "2024-04-18T12:39:48.770526Z",
     "iopub.status.busy": "2024-04-18T12:39:48.769011Z",
     "iopub.status.idle": "2024-04-18T12:44:44.002244Z",
     "shell.execute_reply": "2024-04-18T12:44:44.000921Z"
    },
    "papermill": {
     "duration": 295.687781,
     "end_time": "2024-04-18T12:44:44.171427",
     "exception": false,
     "start_time": "2024-04-18T12:39:48.483646",
     "status": "completed"
    },
    "tags": []
   },
   "outputs": [
    {
     "data": {
      "text/html": [
       "<style>#sk-container-id-2 {color: black;background-color: white;}#sk-container-id-2 pre{padding: 0;}#sk-container-id-2 div.sk-toggleable {background-color: white;}#sk-container-id-2 label.sk-toggleable__label {cursor: pointer;display: block;width: 100%;margin-bottom: 0;padding: 0.3em;box-sizing: border-box;text-align: center;}#sk-container-id-2 label.sk-toggleable__label-arrow:before {content: \"▸\";float: left;margin-right: 0.25em;color: #696969;}#sk-container-id-2 label.sk-toggleable__label-arrow:hover:before {color: black;}#sk-container-id-2 div.sk-estimator:hover label.sk-toggleable__label-arrow:before {color: black;}#sk-container-id-2 div.sk-toggleable__content {max-height: 0;max-width: 0;overflow: hidden;text-align: left;background-color: #f0f8ff;}#sk-container-id-2 div.sk-toggleable__content pre {margin: 0.2em;color: black;border-radius: 0.25em;background-color: #f0f8ff;}#sk-container-id-2 input.sk-toggleable__control:checked~div.sk-toggleable__content {max-height: 200px;max-width: 100%;overflow: auto;}#sk-container-id-2 input.sk-toggleable__control:checked~label.sk-toggleable__label-arrow:before {content: \"▾\";}#sk-container-id-2 div.sk-estimator input.sk-toggleable__control:checked~label.sk-toggleable__label {background-color: #d4ebff;}#sk-container-id-2 div.sk-label input.sk-toggleable__control:checked~label.sk-toggleable__label {background-color: #d4ebff;}#sk-container-id-2 input.sk-hidden--visually {border: 0;clip: rect(1px 1px 1px 1px);clip: rect(1px, 1px, 1px, 1px);height: 1px;margin: -1px;overflow: hidden;padding: 0;position: absolute;width: 1px;}#sk-container-id-2 div.sk-estimator {font-family: monospace;background-color: #f0f8ff;border: 1px dotted black;border-radius: 0.25em;box-sizing: border-box;margin-bottom: 0.5em;}#sk-container-id-2 div.sk-estimator:hover {background-color: #d4ebff;}#sk-container-id-2 div.sk-parallel-item::after {content: \"\";width: 100%;border-bottom: 1px solid gray;flex-grow: 1;}#sk-container-id-2 div.sk-label:hover label.sk-toggleable__label {background-color: #d4ebff;}#sk-container-id-2 div.sk-serial::before {content: \"\";position: absolute;border-left: 1px solid gray;box-sizing: border-box;top: 0;bottom: 0;left: 50%;z-index: 0;}#sk-container-id-2 div.sk-serial {display: flex;flex-direction: column;align-items: center;background-color: white;padding-right: 0.2em;padding-left: 0.2em;position: relative;}#sk-container-id-2 div.sk-item {position: relative;z-index: 1;}#sk-container-id-2 div.sk-parallel {display: flex;align-items: stretch;justify-content: center;background-color: white;position: relative;}#sk-container-id-2 div.sk-item::before, #sk-container-id-2 div.sk-parallel-item::before {content: \"\";position: absolute;border-left: 1px solid gray;box-sizing: border-box;top: 0;bottom: 0;left: 50%;z-index: -1;}#sk-container-id-2 div.sk-parallel-item {display: flex;flex-direction: column;z-index: 1;position: relative;background-color: white;}#sk-container-id-2 div.sk-parallel-item:first-child::after {align-self: flex-end;width: 50%;}#sk-container-id-2 div.sk-parallel-item:last-child::after {align-self: flex-start;width: 50%;}#sk-container-id-2 div.sk-parallel-item:only-child::after {width: 0;}#sk-container-id-2 div.sk-dashed-wrapped {border: 1px dashed gray;margin: 0 0.4em 0.5em 0.4em;box-sizing: border-box;padding-bottom: 0.4em;background-color: white;}#sk-container-id-2 div.sk-label label {font-family: monospace;font-weight: bold;display: inline-block;line-height: 1.2em;}#sk-container-id-2 div.sk-label-container {text-align: center;}#sk-container-id-2 div.sk-container {/* jupyter's `normalize.less` sets `[hidden] { display: none; }` but bootstrap.min.css set `[hidden] { display: none !important; }` so we also need the `!important` here to be able to override the default hidden behavior on the sphinx rendered scikit-learn.org. See: https://github.com/scikit-learn/scikit-learn/issues/21755 */display: inline-block !important;position: relative;}#sk-container-id-2 div.sk-text-repr-fallback {display: none;}</style><div id=\"sk-container-id-2\" class=\"sk-top-container\"><div class=\"sk-text-repr-fallback\"><pre>SVC()</pre><b>In a Jupyter environment, please rerun this cell to show the HTML representation or trust the notebook. <br />On GitHub, the HTML representation is unable to render, please try loading this page with nbviewer.org.</b></div><div class=\"sk-container\" hidden><div class=\"sk-item\"><div class=\"sk-estimator sk-toggleable\"><input class=\"sk-toggleable__control sk-hidden--visually\" id=\"sk-estimator-id-2\" type=\"checkbox\" checked><label for=\"sk-estimator-id-2\" class=\"sk-toggleable__label sk-toggleable__label-arrow\">SVC</label><div class=\"sk-toggleable__content\"><pre>SVC()</pre></div></div></div></div></div>"
      ],
      "text/plain": [
       "SVC()"
      ]
     },
     "execution_count": 14,
     "metadata": {},
     "output_type": "execute_result"
    }
   ],
   "source": [
    "SVM_cl = SVC()\n",
    "SVM_cl.fit(X_train, y_train)"
   ]
  },
  {
   "cell_type": "code",
   "execution_count": 15,
   "id": "70a23786",
   "metadata": {
    "execution": {
     "iopub.execute_input": "2024-04-18T12:44:44.503858Z",
     "iopub.status.busy": "2024-04-18T12:44:44.503449Z",
     "iopub.status.idle": "2024-04-18T12:47:42.422297Z",
     "shell.execute_reply": "2024-04-18T12:47:42.420968Z"
    },
    "papermill": {
     "duration": 178.351803,
     "end_time": "2024-04-18T12:47:42.688633",
     "exception": false,
     "start_time": "2024-04-18T12:44:44.336830",
     "status": "completed"
    },
    "tags": []
   },
   "outputs": [
    {
     "name": "stdout",
     "output_type": "stream",
     "text": [
      "SVM result on train data\n",
      "               precision    recall  f1-score   support\n",
      "\n",
      "           0       0.99      1.00      0.99       671\n",
      "           1       1.00      0.99      0.99       661\n",
      "           2       1.00      1.00      1.00       675\n",
      "           3       0.99      1.00      0.99       661\n",
      "           4       1.00      1.00      1.00       656\n",
      "           5       1.00      0.98      0.99       681\n",
      "           6       1.00      0.99      0.99       672\n",
      "           7       1.00      1.00      1.00       684\n",
      "           8       0.99      1.00      1.00       656\n",
      "           9       1.00      1.00      1.00       672\n",
      "          10       0.99      1.00      1.00       680\n",
      "\n",
      "    accuracy                           1.00      7369\n",
      "   macro avg       1.00      1.00      1.00      7369\n",
      "weighted avg       1.00      1.00      1.00      7369\n",
      "\n"
     ]
    }
   ],
   "source": [
    "y_train_pred = SVM_cl.predict(X_train)\n",
    "print('SVM result on train data\\n', classification_report(y_pred=y_train_pred, y_true=y_train))"
   ]
  },
  {
   "cell_type": "code",
   "execution_count": 16,
   "id": "4efdbae3",
   "metadata": {
    "execution": {
     "iopub.execute_input": "2024-04-18T12:47:43.029382Z",
     "iopub.status.busy": "2024-04-18T12:47:43.027969Z",
     "iopub.status.idle": "2024-04-18T12:49:00.538337Z",
     "shell.execute_reply": "2024-04-18T12:49:00.536978Z"
    },
    "papermill": {
     "duration": 77.852336,
     "end_time": "2024-04-18T12:49:00.709969",
     "exception": false,
     "start_time": "2024-04-18T12:47:42.857633",
     "status": "completed"
    },
    "tags": []
   },
   "outputs": [
    {
     "name": "stdout",
     "output_type": "stream",
     "text": [
      "SVM result on test data\n",
      "               precision    recall  f1-score   support\n",
      "\n",
      "           0       0.80      0.90      0.85       329\n",
      "           1       0.67      0.62      0.65       339\n",
      "           2       0.80      0.80      0.80       325\n",
      "           3       0.86      0.94      0.90       339\n",
      "           4       0.89      0.92      0.91       343\n",
      "           5       0.77      0.72      0.75       319\n",
      "           6       0.86      0.77      0.81       328\n",
      "           7       0.83      0.87      0.85       316\n",
      "           8       0.87      0.87      0.87       344\n",
      "           9       0.97      0.93      0.95       328\n",
      "          10       0.97      0.96      0.97       320\n",
      "\n",
      "    accuracy                           0.85      3630\n",
      "   macro avg       0.85      0.85      0.85      3630\n",
      "weighted avg       0.85      0.85      0.85      3630\n",
      "\n"
     ]
    }
   ],
   "source": [
    "y_test_pred = SVM_cl.predict(X_test)\n",
    "print('SVM result on test data\\n', classification_report(y_pred=y_test_pred, y_true=y_test))"
   ]
  },
  {
   "cell_type": "code",
   "execution_count": 17,
   "id": "e2b14cef",
   "metadata": {
    "execution": {
     "iopub.execute_input": "2024-04-18T12:49:01.065060Z",
     "iopub.status.busy": "2024-04-18T12:49:01.064647Z",
     "iopub.status.idle": "2024-04-18T12:49:01.398515Z",
     "shell.execute_reply": "2024-04-18T12:49:01.397349Z"
    },
    "papermill": {
     "duration": 0.505128,
     "end_time": "2024-04-18T12:49:01.401382",
     "exception": false,
     "start_time": "2024-04-18T12:49:00.896254",
     "status": "completed"
    },
    "tags": []
   },
   "outputs": [
    {
     "data": {
      "image/png": "[encoded data removed]",
      "text/plain": [
       "<Figure size 1000x1000 with 1 Axes>"
      ]
     },
     "metadata": {},
     "output_type": "display_data"
    }
   ],
   "source": [
    "plt.figure(figsize=(10, 10))\n",
    "plt.imshow(confusion_matrix(y_pred=y_test_pred, y_true=y_test))\n",
    "plt.xticks([0, 1, 2, 3, 4, 5, 6, 7, 8, 9, 10], rotation=90, labels=labels)\n",
    "plt.yticks([0, 1, 2, 3, 4, 5, 6, 7, 8, 9, 10], labels=labels)\n",
    "plt.title('Confusion Matrix of SVM')\n",
    "plt.show();"
   ]
  },
  {
   "cell_type": "markdown",
   "id": "ef1410a9",
   "metadata": {
    "papermill": {
     "duration": 0.167575,
     "end_time": "2024-04-18T12:49:01.739061",
     "exception": false,
     "start_time": "2024-04-18T12:49:01.571486",
     "status": "completed"
    },
    "tags": []
   },
   "source": [
    "### Random forest (defualt parameters)"
   ]
  },
  {
   "cell_type": "code",
   "execution_count": 18,
   "id": "0ef3dd54",
   "metadata": {
    "execution": {
     "iopub.execute_input": "2024-04-18T12:49:02.081003Z",
     "iopub.status.busy": "2024-04-18T12:49:02.080617Z",
     "iopub.status.idle": "2024-04-18T12:52:25.317837Z",
     "shell.execute_reply": "2024-04-18T12:52:25.312795Z"
    },
    "papermill": {
     "duration": 203.578688,
     "end_time": "2024-04-18T12:52:25.487898",
     "exception": false,
     "start_time": "2024-04-18T12:49:01.909210",
     "status": "completed"
    },
    "tags": []
   },
   "outputs": [
    {
     "data": {
      "text/html": [
       "<style>#sk-container-id-3 {color: black;background-color: white;}#sk-container-id-3 pre{padding: 0;}#sk-container-id-3 div.sk-toggleable {background-color: white;}#sk-container-id-3 label.sk-toggleable__label {cursor: pointer;display: block;width: 100%;margin-bottom: 0;padding: 0.3em;box-sizing: border-box;text-align: center;}#sk-container-id-3 label.sk-toggleable__label-arrow:before {content: \"▸\";float: left;margin-right: 0.25em;color: #696969;}#sk-container-id-3 label.sk-toggleable__label-arrow:hover:before {color: black;}#sk-container-id-3 div.sk-estimator:hover label.sk-toggleable__label-arrow:before {color: black;}#sk-container-id-3 div.sk-toggleable__content {max-height: 0;max-width: 0;overflow: hidden;text-align: left;background-color: #f0f8ff;}#sk-container-id-3 div.sk-toggleable__content pre {margin: 0.2em;color: black;border-radius: 0.25em;background-color: #f0f8ff;}#sk-container-id-3 input.sk-toggleable__control:checked~div.sk-toggleable__content {max-height: 200px;max-width: 100%;overflow: auto;}#sk-container-id-3 input.sk-toggleable__control:checked~label.sk-toggleable__label-arrow:before {content: \"▾\";}#sk-container-id-3 div.sk-estimator input.sk-toggleable__control:checked~label.sk-toggleable__label {background-color: #d4ebff;}#sk-container-id-3 div.sk-label input.sk-toggleable__control:checked~label.sk-toggleable__label {background-color: #d4ebff;}#sk-container-id-3 input.sk-hidden--visually {border: 0;clip: rect(1px 1px 1px 1px);clip: rect(1px, 1px, 1px, 1px);height: 1px;margin: -1px;overflow: hidden;padding: 0;position: absolute;width: 1px;}#sk-container-id-3 div.sk-estimator {font-family: monospace;background-color: #f0f8ff;border: 1px dotted black;border-radius: 0.25em;box-sizing: border-box;margin-bottom: 0.5em;}#sk-container-id-3 div.sk-estimator:hover {background-color: #d4ebff;}#sk-container-id-3 div.sk-parallel-item::after {content: \"\";width: 100%;border-bottom: 1px solid gray;flex-grow: 1;}#sk-container-id-3 div.sk-label:hover label.sk-toggleable__label {background-color: #d4ebff;}#sk-container-id-3 div.sk-serial::before {content: \"\";position: absolute;border-left: 1px solid gray;box-sizing: border-box;top: 0;bottom: 0;left: 50%;z-index: 0;}#sk-container-id-3 div.sk-serial {display: flex;flex-direction: column;align-items: center;background-color: white;padding-right: 0.2em;padding-left: 0.2em;position: relative;}#sk-container-id-3 div.sk-item {position: relative;z-index: 1;}#sk-container-id-3 div.sk-parallel {display: flex;align-items: stretch;justify-content: center;background-color: white;position: relative;}#sk-container-id-3 div.sk-item::before, #sk-container-id-3 div.sk-parallel-item::before {content: \"\";position: absolute;border-left: 1px solid gray;box-sizing: border-box;top: 0;bottom: 0;left: 50%;z-index: -1;}#sk-container-id-3 div.sk-parallel-item {display: flex;flex-direction: column;z-index: 1;position: relative;background-color: white;}#sk-container-id-3 div.sk-parallel-item:first-child::after {align-self: flex-end;width: 50%;}#sk-container-id-3 div.sk-parallel-item:last-child::after {align-self: flex-start;width: 50%;}#sk-container-id-3 div.sk-parallel-item:only-child::after {width: 0;}#sk-container-id-3 div.sk-dashed-wrapped {border: 1px dashed gray;margin: 0 0.4em 0.5em 0.4em;box-sizing: border-box;padding-bottom: 0.4em;background-color: white;}#sk-container-id-3 div.sk-label label {font-family: monospace;font-weight: bold;display: inline-block;line-height: 1.2em;}#sk-container-id-3 div.sk-label-container {text-align: center;}#sk-container-id-3 div.sk-container {/* jupyter's `normalize.less` sets `[hidden] { display: none; }` but bootstrap.min.css set `[hidden] { display: none !important; }` so we also need the `!important` here to be able to override the default hidden behavior on the sphinx rendered scikit-learn.org. See: https://github.com/scikit-learn/scikit-learn/issues/21755 */display: inline-block !important;position: relative;}#sk-container-id-3 div.sk-text-repr-fallback {display: none;}</style><div id=\"sk-container-id-3\" class=\"sk-top-container\"><div class=\"sk-text-repr-fallback\"><pre>RandomForestClassifier()</pre><b>In a Jupyter environment, please rerun this cell to show the HTML representation or trust the notebook. <br />On GitHub, the HTML representation is unable to render, please try loading this page with nbviewer.org.</b></div><div class=\"sk-container\" hidden><div class=\"sk-item\"><div class=\"sk-estimator sk-toggleable\"><input class=\"sk-toggleable__control sk-hidden--visually\" id=\"sk-estimator-id-3\" type=\"checkbox\" checked><label for=\"sk-estimator-id-3\" class=\"sk-toggleable__label sk-toggleable__label-arrow\">RandomForestClassifier</label><div class=\"sk-toggleable__content\"><pre>RandomForestClassifier()</pre></div></div></div></div></div>"
      ],
      "text/plain": [
       "RandomForestClassifier()"
      ]
     },
     "execution_count": 18,
     "metadata": {},
     "output_type": "execute_result"
    }
   ],
   "source": [
    "RF_cl = RandomForestClassifier()\n",
    "RF_cl.fit(X_train, y_train)"
   ]
  },
  {
   "cell_type": "code",
   "execution_count": 19,
   "id": "4559f619",
   "metadata": {
    "execution": {
     "iopub.execute_input": "2024-04-18T12:52:25.830023Z",
     "iopub.status.busy": "2024-04-18T12:52:25.828973Z",
     "iopub.status.idle": "2024-04-18T12:52:34.410787Z",
     "shell.execute_reply": "2024-04-18T12:52:34.409431Z"
    },
    "papermill": {
     "duration": 8.756195,
     "end_time": "2024-04-18T12:52:34.413554",
     "exception": false,
     "start_time": "2024-04-18T12:52:25.657359",
     "status": "completed"
    },
    "tags": []
   },
   "outputs": [
    {
     "name": "stdout",
     "output_type": "stream",
     "text": [
      "Random forest result on train data\n",
      "               precision    recall  f1-score   support\n",
      "\n",
      "           0       1.00      1.00      1.00       671\n",
      "           1       1.00      1.00      1.00       661\n",
      "           2       1.00      1.00      1.00       675\n",
      "           3       1.00      1.00      1.00       661\n",
      "           4       1.00      1.00      1.00       656\n",
      "           5       1.00      1.00      1.00       681\n",
      "           6       1.00      1.00      1.00       672\n",
      "           7       1.00      1.00      1.00       684\n",
      "           8       1.00      1.00      1.00       656\n",
      "           9       1.00      1.00      1.00       672\n",
      "          10       1.00      1.00      1.00       680\n",
      "\n",
      "    accuracy                           1.00      7369\n",
      "   macro avg       1.00      1.00      1.00      7369\n",
      "weighted avg       1.00      1.00      1.00      7369\n",
      "\n"
     ]
    }
   ],
   "source": [
    "y_train_pred = RF_cl.predict(X_train)\n",
    "print('Random forest result on train data\\n', classification_report(y_pred=y_train_pred, y_true=y_train))"
   ]
  },
  {
   "cell_type": "code",
   "execution_count": 20,
   "id": "dccfcc6d",
   "metadata": {
    "execution": {
     "iopub.execute_input": "2024-04-18T12:52:34.755742Z",
     "iopub.status.busy": "2024-04-18T12:52:34.755009Z",
     "iopub.status.idle": "2024-04-18T12:52:37.148368Z",
     "shell.execute_reply": "2024-04-18T12:52:37.147068Z"
    },
    "papermill": {
     "duration": 2.568978,
     "end_time": "2024-04-18T12:52:37.150764",
     "exception": false,
     "start_time": "2024-04-18T12:52:34.581786",
     "status": "completed"
    },
    "tags": []
   },
   "outputs": [
    {
     "name": "stdout",
     "output_type": "stream",
     "text": [
      "Random forest result on test data\n",
      "               precision    recall  f1-score   support\n",
      "\n",
      "           0       0.79      0.95      0.86       329\n",
      "           1       0.76      0.37      0.50       339\n",
      "           2       0.75      0.81      0.78       325\n",
      "           3       0.84      0.98      0.90       339\n",
      "           4       0.82      0.86      0.84       343\n",
      "           5       0.74      0.73      0.73       319\n",
      "           6       0.85      0.78      0.81       328\n",
      "           7       0.80      0.84      0.82       316\n",
      "           8       0.86      0.88      0.87       344\n",
      "           9       0.90      0.91      0.91       328\n",
      "          10       0.95      0.96      0.95       320\n",
      "\n",
      "    accuracy                           0.82      3630\n",
      "   macro avg       0.82      0.83      0.82      3630\n",
      "weighted avg       0.82      0.82      0.82      3630\n",
      "\n"
     ]
    }
   ],
   "source": [
    "y_test_pred = RF_cl.predict(X_test)\n",
    "print('Random forest result on test data\\n', classification_report(y_pred=y_test_pred, y_true=y_test))"
   ]
  },
  {
   "cell_type": "code",
   "execution_count": 21,
   "id": "9708d69d",
   "metadata": {
    "execution": {
     "iopub.execute_input": "2024-04-18T12:52:37.492827Z",
     "iopub.status.busy": "2024-04-18T12:52:37.491911Z",
     "iopub.status.idle": "2024-04-18T12:52:37.825549Z",
     "shell.execute_reply": "2024-04-18T12:52:37.824662Z"
    },
    "papermill": {
     "duration": 0.506962,
     "end_time": "2024-04-18T12:52:37.827594",
     "exception": false,
     "start_time": "2024-04-18T12:52:37.320632",
     "status": "completed"
    },
    "tags": []
   },
   "outputs": [
    {
     "data": {
      "image/png": "[encoded data removed]",
      "text/plain": [
       "<Figure size 1000x1000 with 1 Axes>"
      ]
     },
     "metadata": {},
     "output_type": "display_data"
    }
   ],
   "source": [
    "plt.figure(figsize=(10, 10))\n",
    "plt.imshow(confusion_matrix(y_pred=y_test_pred, y_true=y_test))\n",
    "plt.xticks([0, 1, 2, 3, 4, 5, 6, 7, 8, 9, 10], rotation=90, labels=labels)\n",
    "plt.yticks([0, 1, 2, 3, 4, 5, 6, 7, 8, 9, 10], labels=labels)\n",
    "plt.title('Confusion Matrix of Random Forest')\n",
    "plt.show();"
   ]
  },
  {
   "cell_type": "markdown",
   "id": "7b1a605b",
   "metadata": {
    "papermill": {
     "duration": 0.169375,
     "end_time": "2024-04-18T12:52:38.165853",
     "exception": false,
     "start_time": "2024-04-18T12:52:37.996478",
     "status": "completed"
    },
    "tags": []
   },
   "source": [
    "### Voting classifier"
   ]
  },
  {
   "cell_type": "code",
   "execution_count": 22,
   "id": "d479c35b",
   "metadata": {
    "execution": {
     "iopub.execute_input": "2024-04-18T12:52:38.506862Z",
     "iopub.status.busy": "2024-04-18T12:52:38.506158Z",
     "iopub.status.idle": "2024-04-18T13:00:54.530117Z",
     "shell.execute_reply": "2024-04-18T13:00:54.528780Z"
    },
    "papermill": {
     "duration": 496.370661,
     "end_time": "2024-04-18T13:00:54.704850",
     "exception": false,
     "start_time": "2024-04-18T12:52:38.334189",
     "status": "completed"
    },
    "tags": []
   },
   "outputs": [
    {
     "name": "stdout",
     "output_type": "stream",
     "text": [
      "[Voting] ...................... (1 of 2) Processing svc, total= 4.9min\n",
      "[Voting] ............ (2 of 2) Processing rnadom_forest, total= 3.3min\n"
     ]
    },
    {
     "data": {
      "text/html": [
       "<style>#sk-container-id-4 {color: black;background-color: white;}#sk-container-id-4 pre{padding: 0;}#sk-container-id-4 div.sk-toggleable {background-color: white;}#sk-container-id-4 label.sk-toggleable__label {cursor: pointer;display: block;width: 100%;margin-bottom: 0;padding: 0.3em;box-sizing: border-box;text-align: center;}#sk-container-id-4 label.sk-toggleable__label-arrow:before {content: \"▸\";float: left;margin-right: 0.25em;color: #696969;}#sk-container-id-4 label.sk-toggleable__label-arrow:hover:before {color: black;}#sk-container-id-4 div.sk-estimator:hover label.sk-toggleable__label-arrow:before {color: black;}#sk-container-id-4 div.sk-toggleable__content {max-height: 0;max-width: 0;overflow: hidden;text-align: left;background-color: #f0f8ff;}#sk-container-id-4 div.sk-toggleable__content pre {margin: 0.2em;color: black;border-radius: 0.25em;background-color: #f0f8ff;}#sk-container-id-4 input.sk-toggleable__control:checked~div.sk-toggleable__content {max-height: 200px;max-width: 100%;overflow: auto;}#sk-container-id-4 input.sk-toggleable__control:checked~label.sk-toggleable__label-arrow:before {content: \"▾\";}#sk-container-id-4 div.sk-estimator input.sk-toggleable__control:checked~label.sk-toggleable__label {background-color: #d4ebff;}#sk-container-id-4 div.sk-label input.sk-toggleable__control:checked~label.sk-toggleable__label {background-color: #d4ebff;}#sk-container-id-4 input.sk-hidden--visually {border: 0;clip: rect(1px 1px 1px 1px);clip: rect(1px, 1px, 1px, 1px);height: 1px;margin: -1px;overflow: hidden;padding: 0;position: absolute;width: 1px;}#sk-container-id-4 div.sk-estimator {font-family: monospace;background-color: #f0f8ff;border: 1px dotted black;border-radius: 0.25em;box-sizing: border-box;margin-bottom: 0.5em;}#sk-container-id-4 div.sk-estimator:hover {background-color: #d4ebff;}#sk-container-id-4 div.sk-parallel-item::after {content: \"\";width: 100%;border-bottom: 1px solid gray;flex-grow: 1;}#sk-container-id-4 div.sk-label:hover label.sk-toggleable__label {background-color: #d4ebff;}#sk-container-id-4 div.sk-serial::before {content: \"\";position: absolute;border-left: 1px solid gray;box-sizing: border-box;top: 0;bottom: 0;left: 50%;z-index: 0;}#sk-container-id-4 div.sk-serial {display: flex;flex-direction: column;align-items: center;background-color: white;padding-right: 0.2em;padding-left: 0.2em;position: relative;}#sk-container-id-4 div.sk-item {position: relative;z-index: 1;}#sk-container-id-4 div.sk-parallel {display: flex;align-items: stretch;justify-content: center;background-color: white;position: relative;}#sk-container-id-4 div.sk-item::before, #sk-container-id-4 div.sk-parallel-item::before {content: \"\";position: absolute;border-left: 1px solid gray;box-sizing: border-box;top: 0;bottom: 0;left: 50%;z-index: -1;}#sk-container-id-4 div.sk-parallel-item {display: flex;flex-direction: column;z-index: 1;position: relative;background-color: white;}#sk-container-id-4 div.sk-parallel-item:first-child::after {align-self: flex-end;width: 50%;}#sk-container-id-4 div.sk-parallel-item:last-child::after {align-self: flex-start;width: 50%;}#sk-container-id-4 div.sk-parallel-item:only-child::after {width: 0;}#sk-container-id-4 div.sk-dashed-wrapped {border: 1px dashed gray;margin: 0 0.4em 0.5em 0.4em;box-sizing: border-box;padding-bottom: 0.4em;background-color: white;}#sk-container-id-4 div.sk-label label {font-family: monospace;font-weight: bold;display: inline-block;line-height: 1.2em;}#sk-container-id-4 div.sk-label-container {text-align: center;}#sk-container-id-4 div.sk-container {/* jupyter's `normalize.less` sets `[hidden] { display: none; }` but bootstrap.min.css set `[hidden] { display: none !important; }` so we also need the `!important` here to be able to override the default hidden behavior on the sphinx rendered scikit-learn.org. See: https://github.com/scikit-learn/scikit-learn/issues/21755 */display: inline-block !important;position: relative;}#sk-container-id-4 div.sk-text-repr-fallback {display: none;}</style><div id=\"sk-container-id-4\" class=\"sk-top-container\"><div class=\"sk-text-repr-fallback\"><pre>VotingClassifier(estimators=[(&#x27;svc&#x27;, SVC()),\n",
       "                             (&#x27;rnadom_forest&#x27;, RandomForestClassifier())],\n",
       "                 verbose=True)</pre><b>In a Jupyter environment, please rerun this cell to show the HTML representation or trust the notebook. <br />On GitHub, the HTML representation is unable to render, please try loading this page with nbviewer.org.</b></div><div class=\"sk-container\" hidden><div class=\"sk-item sk-dashed-wrapped\"><div class=\"sk-label-container\"><div class=\"sk-label sk-toggleable\"><input class=\"sk-toggleable__control sk-hidden--visually\" id=\"sk-estimator-id-4\" type=\"checkbox\" ><label for=\"sk-estimator-id-4\" class=\"sk-toggleable__label sk-toggleable__label-arrow\">VotingClassifier</label><div class=\"sk-toggleable__content\"><pre>VotingClassifier(estimators=[(&#x27;svc&#x27;, SVC()),\n",
       "                             (&#x27;rnadom_forest&#x27;, RandomForestClassifier())],\n",
       "                 verbose=True)</pre></div></div></div><div class=\"sk-parallel\"><div class=\"sk-parallel-item\"><div class=\"sk-item\"><div class=\"sk-label-container\"><div class=\"sk-label sk-toggleable\"><label>svc</label></div></div><div class=\"sk-serial\"><div class=\"sk-item\"><div class=\"sk-estimator sk-toggleable\"><input class=\"sk-toggleable__control sk-hidden--visually\" id=\"sk-estimator-id-5\" type=\"checkbox\" ><label for=\"sk-estimator-id-5\" class=\"sk-toggleable__label sk-toggleable__label-arrow\">SVC</label><div class=\"sk-toggleable__content\"><pre>SVC()</pre></div></div></div></div></div></div><div class=\"sk-parallel-item\"><div class=\"sk-item\"><div class=\"sk-label-container\"><div class=\"sk-label sk-toggleable\"><label>rnadom_forest</label></div></div><div class=\"sk-serial\"><div class=\"sk-item\"><div class=\"sk-estimator sk-toggleable\"><input class=\"sk-toggleable__control sk-hidden--visually\" id=\"sk-estimator-id-6\" type=\"checkbox\" ><label for=\"sk-estimator-id-6\" class=\"sk-toggleable__label sk-toggleable__label-arrow\">RandomForestClassifier</label><div class=\"sk-toggleable__content\"><pre>RandomForestClassifier()</pre></div></div></div></div></div></div></div></div></div></div>"
      ],
      "text/plain": [
       "VotingClassifier(estimators=[('svc', SVC()),\n",
       "                             ('rnadom_forest', RandomForestClassifier())],\n",
       "                 verbose=True)"
      ]
     },
     "execution_count": 22,
     "metadata": {},
     "output_type": "execute_result"
    }
   ],
   "source": [
    "clf_1 = SVC() \n",
    "clf_2 = RandomForestClassifier()\n",
    "VO_cl = VotingClassifier(\n",
    "    estimators=[('svc', clf_1), ('rnadom_forest', clf_2)],\n",
    "    voting='hard', verbose=True)\n",
    "VO_cl.fit(X_train, y_train)"
   ]
  },
  {
   "cell_type": "code",
   "execution_count": 23,
   "id": "904a4eba",
   "metadata": {
    "execution": {
     "iopub.execute_input": "2024-04-18T13:00:55.053587Z",
     "iopub.status.busy": "2024-04-18T13:00:55.052782Z",
     "iopub.status.idle": "2024-04-18T13:04:05.481752Z",
     "shell.execute_reply": "2024-04-18T13:04:05.480522Z"
    },
    "papermill": {
     "duration": 190.77513,
     "end_time": "2024-04-18T13:04:05.654992",
     "exception": false,
     "start_time": "2024-04-18T13:00:54.879862",
     "status": "completed"
    },
    "tags": []
   },
   "outputs": [
    {
     "name": "stdout",
     "output_type": "stream",
     "text": [
      "Voting classifier result on train data\n",
      "               precision    recall  f1-score   support\n",
      "\n",
      "           0       0.99      1.00      1.00       671\n",
      "           1       1.00      1.00      1.00       661\n",
      "           2       1.00      1.00      1.00       675\n",
      "           3       0.99      1.00      0.99       661\n",
      "           4       1.00      1.00      1.00       656\n",
      "           5       1.00      0.99      1.00       681\n",
      "           6       1.00      0.99      0.99       672\n",
      "           7       1.00      1.00      1.00       684\n",
      "           8       1.00      1.00      1.00       656\n",
      "           9       1.00      1.00      1.00       672\n",
      "          10       1.00      1.00      1.00       680\n",
      "\n",
      "    accuracy                           1.00      7369\n",
      "   macro avg       1.00      1.00      1.00      7369\n",
      "weighted avg       1.00      1.00      1.00      7369\n",
      "\n"
     ]
    }
   ],
   "source": [
    "y_train_pred = VO_cl.predict(X_train)\n",
    "print('Voting classifier result on train data\\n', classification_report(y_pred=y_train_pred, y_true=y_train))"
   ]
  },
  {
   "cell_type": "code",
   "execution_count": 24,
   "id": "92573c0d",
   "metadata": {
    "execution": {
     "iopub.execute_input": "2024-04-18T13:04:06.072991Z",
     "iopub.status.busy": "2024-04-18T13:04:06.072242Z",
     "iopub.status.idle": "2024-04-18T13:05:29.105544Z",
     "shell.execute_reply": "2024-04-18T13:05:29.104237Z"
    },
    "papermill": {
     "duration": 83.380052,
     "end_time": "2024-04-18T13:05:29.279007",
     "exception": false,
     "start_time": "2024-04-18T13:04:05.898955",
     "status": "completed"
    },
    "tags": []
   },
   "outputs": [
    {
     "name": "stdout",
     "output_type": "stream",
     "text": [
      "Voting classifier result on test data\n",
      "               precision    recall  f1-score   support\n",
      "\n",
      "           0       0.75      0.98      0.85       329\n",
      "           1       0.65      0.60      0.63       339\n",
      "           2       0.78      0.83      0.81       325\n",
      "           3       0.86      0.96      0.90       339\n",
      "           4       0.81      0.93      0.87       343\n",
      "           5       0.78      0.69      0.73       319\n",
      "           6       0.90      0.75      0.82       328\n",
      "           7       0.86      0.82      0.84       316\n",
      "           8       0.91      0.83      0.87       344\n",
      "           9       0.98      0.88      0.93       328\n",
      "          10       0.99      0.95      0.97       320\n",
      "\n",
      "    accuracy                           0.84      3630\n",
      "   macro avg       0.84      0.84      0.84      3630\n",
      "weighted avg       0.84      0.84      0.84      3630\n",
      "\n"
     ]
    }
   ],
   "source": [
    "y_test_pred = VO_cl.predict(X_test)\n",
    "print('Voting classifier result on test data\\n', classification_report(y_pred=y_test_pred, y_true=y_test))"
   ]
  },
  {
   "cell_type": "code",
   "execution_count": 25,
   "id": "a5d48a18",
   "metadata": {
    "execution": {
     "iopub.execute_input": "2024-04-18T13:05:29.619276Z",
     "iopub.status.busy": "2024-04-18T13:05:29.618853Z",
     "iopub.status.idle": "2024-04-18T13:05:30.507270Z",
     "shell.execute_reply": "2024-04-18T13:05:30.505942Z"
    },
    "papermill": {
     "duration": 1.061665,
     "end_time": "2024-04-18T13:05:30.509691",
     "exception": false,
     "start_time": "2024-04-18T13:05:29.448026",
     "status": "completed"
    },
    "tags": []
   },
   "outputs": [
    {
     "data": {
      "image/png": "[encoded data removed]",
      "text/plain": [
       "<Figure size 1000x1000 with 1 Axes>"
      ]
     },
     "metadata": {},
     "output_type": "display_data"
    }
   ],
   "source": [
    "plt.figure(figsize=(10, 10))\n",
    "plt.imshow(confusion_matrix(y_pred=y_test_pred, y_true=y_test))\n",
    "plt.xticks([0, 1, 2, 3, 4, 5, 6, 7, 8, 9, 10], rotation=90, labels=labels)\n",
    "plt.yticks([0, 1, 2, 3, 4, 5, 6, 7, 8, 9, 10], labels=labels)\n",
    "plt.title('Confusion Matrix of Voting classifier')\n",
    "plt.show();"
   ]
  }
 ],
 "metadata": {
  "kaggle": {
   "accelerator": "none",
   "dataSources": [
    {
     "datasetId": 4801949,
     "sourceId": 8125478,
     "sourceType": "datasetVersion"
    }
   ],
   "dockerImageVersionId": 30683,
   "isGpuEnabled": false,
   "isInternetEnabled": true,
   "language": "python",
   "sourceType": "notebook"
  },
  "kernelspec": {
   "display_name": "Python 3",
   "language": "python",
   "name": "python3"
  },
  "language_info": {
   "codemirror_mode": {
    "name": "ipython",
    "version": 3
   },
   "file_extension": ".py",
   "mimetype": "text/x-python",
   "name": "python",
   "nbconvert_exporter": "python",
   "pygments_lexer": "ipython3",
   "version": "3.10.13"
  },
  "papermill": {
   "default_parameters": {},
   "duration": 2010.028877,
   "end_time": "2024-04-18T13:05:32.416147",
   "environment_variables": {},
   "exception": null,
   "input_path": "__notebook__.ipynb",
   "output_path": "__notebook__.ipynb",
   "parameters": {},
   "start_time": "2024-04-18T12:32:02.387270",
   "version": "2.5.0"
  }
 },
 "nbformat": 4,
 "nbformat_minor": 5
}
